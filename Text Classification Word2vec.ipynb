{
 "cells": [
  {
   "cell_type": "code",
   "execution_count": 1,
   "metadata": {
    "id": "7_DSyPZpuOce"
   },
   "outputs": [],
   "source": [
    "import pandas as pd\n",
    "from sklearn.model_selection import train_test_split\n",
    "from sklearn.metrics import classification_report\n",
    "from sklearn.naive_bayes import MultinomialNB\n",
    "from gensim.models import Word2Vec\n",
    "from sklearn.preprocessing import MinMaxScaler\n",
    "\n",
    "import pickle\n",
    "import numpy as np"
   ]
  },
  {
   "cell_type": "code",
   "execution_count": 2,
   "metadata": {
    "id": "DsnRWW6PuZyS"
   },
   "outputs": [],
   "source": [
    "bbc_text = pd.read_csv('bbc-text.txt')\n",
    "review=bbc_text.rename(columns = {'text': 'News_Headline'}, inplace = False)\n",
    "review.category = bbc_text.category.map({'tech':0, 'business':1, 'sport':2, 'entertainment':3, 'politics':4})"
   ]
  },
  {
   "cell_type": "code",
   "execution_count": 3,
   "metadata": {
    "id": "QtfSuGlhuqpC"
   },
   "outputs": [],
   "source": [
    "X = review.News_Headline\n",
    "y = review.category\n",
    "X_train, X_test, y_train, y_test = train_test_split(X, y, train_size=0.6, random_state=1)"
   ]
  },
  {
   "cell_type": "code",
   "execution_count": 4,
   "metadata": {
    "id": "fijqhEhgut5w"
   },
   "outputs": [],
   "source": [
    "# Tokenize the text data\n",
    "X_train_tokenized = [review.split() for review in X_train]\n",
    "X_test_tokenized = [review.split() for review in X_test]"
   ]
  },
  {
   "cell_type": "code",
   "execution_count": 5,
   "metadata": {
    "id": "Taig9Aexu8_n"
   },
   "outputs": [],
   "source": [
    "# Train the Word2Vec model\n",
    "word2vec_model = Word2Vec(sentences=X_train_tokenized, vector_size=100, window=5, min_count=1, workers=4)\n"
   ]
  },
  {
   "cell_type": "code",
   "execution_count": 6,
   "metadata": {
    "id": "Ex2VcmiUvA94"
   },
   "outputs": [],
   "source": [
    "# Transform the text data to word vectors\n",
    "X_train_transformed = []\n",
    "for review in X_train_tokenized:\n",
    "    vectors = [word2vec_model.wv[word] for word in review if word in word2vec_model.wv]\n",
    "    if vectors:\n",
    "        review_vector = np.mean(vectors, axis=0)\n",
    "        X_train_transformed.append(review_vector)\n",
    "X_test_transformed = []\n",
    "for review in X_test_tokenized:\n",
    "    vectors = [word2vec_model.wv[word] for word in review if word in word2vec_model.wv]\n",
    "    if vectors:\n",
    "        review_vector = np.mean(vectors, axis=0)\n",
    "        X_test_transformed.append(review_vector)"
   ]
  },
  {
   "cell_type": "code",
   "execution_count": 7,
   "metadata": {
    "id": "t01PerNKvb84"
   },
   "outputs": [],
   "source": [
    "# Reshape the word vectors to 2D\n",
    "X_train_transformed = np.vstack(X_train_transformed)\n",
    "X_test_transformed = np.vstack(X_test_transformed)"
   ]
  },
  {
   "cell_type": "code",
   "execution_count": 8,
   "metadata": {
    "id": "aUHSJ29RvqtR"
   },
   "outputs": [],
   "source": [
    "# Scale the word vectors to make them non-negative\n",
    "scaler = MinMaxScaler()\n",
    "X_train_transformed = scaler.fit_transform(X_train_transformed)\n",
    "X_test_transformed = scaler.transform(X_test_transformed)"
   ]
  },
  {
   "cell_type": "code",
   "execution_count": 9,
   "metadata": {
    "colab": {
     "base_uri": "https://localhost:8080/",
     "height": 74
    },
    "id": "_XdaSjWGvsdk",
    "outputId": "de2ed464-2f88-4026-8357-cff371203695"
   },
   "outputs": [
    {
     "data": {
      "text/plain": [
       "MultinomialNB()"
      ]
     },
     "execution_count": 9,
     "metadata": {},
     "output_type": "execute_result"
    }
   ],
   "source": [
    "# Train the model\n",
    "naivebayes = MultinomialNB()\n",
    "naivebayes.fit(X_train_transformed, y_train)"
   ]
  },
  {
   "cell_type": "code",
   "execution_count": 10,
   "metadata": {
    "colab": {
     "base_uri": "https://localhost:8080/"
    },
    "id": "1btYONddv9lZ",
    "outputId": "52235343-99a9-4343-8d97-473b78a62d80"
   },
   "outputs": [
    {
     "name": "stdout",
     "output_type": "stream",
     "text": [
      "              precision    recall  f1-score   support\n",
      "\n",
      "           0       0.75      0.71      0.73       163\n",
      "           1       0.81      0.63      0.71       272\n",
      "           2       0.72      0.77      0.75       184\n",
      "           3       0.31      0.53      0.39        93\n",
      "           4       0.73      0.69      0.71       178\n",
      "\n",
      "    accuracy                           0.68       890\n",
      "   macro avg       0.66      0.67      0.66       890\n",
      "weighted avg       0.71      0.68      0.69       890\n",
      "\n"
     ]
    }
   ],
   "source": [
    "from sklearn.metrics import classification_report\n",
    "print(classification_report(naivebayes.predict(X_test_transformed), y_test))"
   ]
  },
  {
   "cell_type": "code",
   "execution_count": 11,
   "metadata": {
    "colab": {
     "base_uri": "https://localhost:8080/"
    },
    "id": "_4C95V1kwKdF",
    "outputId": "81ced825-7394-48d3-b3a6-92e448ab3204"
   },
   "outputs": [
    {
     "name": "stdout",
     "output_type": "stream",
     "text": [
      "Headline: ['There will be recession throughout the world as predicted by world bank']\n",
      "Prediction: BUSINESS\n"
     ]
    }
   ],
   "source": [
    "headline1 = ['There will be recession throughout the world as predicted by world bank']\n",
    "headline1_tokenized = headline1[0].split()\n",
    "headline1_vectors = [word2vec_model.wv[word] for word in headline1_tokenized if word in word2vec_model.wv]\n",
    "if headline1_vectors:\n",
    "    headline1_vector = np.mean(headline1_vectors, axis=0)\n",
    "    headline1_transformed = scaler.transform(headline1_vector.reshape(1, -1))\n",
    "\n",
    "prediction = naivebayes.predict(headline1_transformed)\n",
    "k = str(list(prediction)[0]).replace('0', 'TECH').replace('1', 'BUSINESS').replace('2', 'SPORTS').replace('3', 'ENTERTAINMENT').replace('4', 'POLITICS')\n",
    "print('Headline:', headline1)\n",
    "print('Prediction:', k)\n"
   ]
  },
  {
   "cell_type": "code",
   "execution_count": null,
   "metadata": {
    "id": "6h5HSmi_wyjR"
   },
   "outputs": [],
   "source": []
  }
 ],
 "metadata": {
  "colab": {
   "provenance": []
  },
  "kernelspec": {
   "display_name": "Python 3 (ipykernel)",
   "language": "python",
   "name": "python3"
  },
  "language_info": {
   "codemirror_mode": {
    "name": "ipython",
    "version": 3
   },
   "file_extension": ".py",
   "mimetype": "text/x-python",
   "name": "python",
   "nbconvert_exporter": "python",
   "pygments_lexer": "ipython3",
   "version": "3.9.12"
  }
 },
 "nbformat": 4,
 "nbformat_minor": 1
}
