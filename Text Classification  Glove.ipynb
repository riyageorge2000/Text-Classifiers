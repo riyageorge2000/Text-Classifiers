{
 "cells": [
  {
   "cell_type": "code",
   "execution_count": 1,
   "id": "6ce344cc",
   "metadata": {},
   "outputs": [],
   "source": [
    "import pandas as pd\n",
    "from sklearn.model_selection import train_test_split\n",
    "from sklearn.svm import LinearSVC\n",
    "import numpy as np\n",
    "from gensim.scripts.glove2word2vec import glove2word2vec\n",
    "from gensim.models import KeyedVectors"
   ]
  },
  {
   "cell_type": "code",
   "execution_count": 2,
   "id": "0e6aee4a",
   "metadata": {},
   "outputs": [],
   "source": [
    "bbc_text = pd.read_csv('bbc-text.txt')\n",
    "review=bbc_text.rename(columns = {'text': 'News_Headline'}, inplace = False)\n",
    "review.category = bbc_text.category.map({'tech':0, 'business':1, 'sport':2, 'entertainment':3, 'politics':4})"
   ]
  },
  {
   "cell_type": "code",
   "execution_count": 3,
   "id": "025ff2dc",
   "metadata": {},
   "outputs": [],
   "source": [
    "X = review.News_Headline\n",
    "y = review.category\n",
    "X_train, X_test, y_train, y_test = train_test_split(X, y, train_size=0.6, random_state=1)"
   ]
  },
  {
   "cell_type": "code",
   "execution_count": 4,
   "id": "569803e4",
   "metadata": {},
   "outputs": [
    {
     "name": "stderr",
     "output_type": "stream",
     "text": [
      "C:\\Users\\riyag\\AppData\\Local\\Temp\\ipykernel_12680\\2176491414.py:3: DeprecationWarning: Call to deprecated `glove2word2vec` (KeyedVectors.load_word2vec_format(.., binary=False, no_header=True) loads GLoVE text vectors.).\n",
      "  glove2word2vec(glove_input_file, word2vec_output_file)\n"
     ]
    }
   ],
   "source": [
    "glove_input_file = 'glove.6B.100d.txt'\n",
    "word2vec_output_file = 'glove.6B.100d.word2vec.txt'\n",
    "glove2word2vec(glove_input_file, word2vec_output_file)\n",
    "glove_model = KeyedVectors.load_word2vec_format(word2vec_output_file, binary=False)"
   ]
  },
  {
   "cell_type": "code",
   "execution_count": 5,
   "id": "e56548bc",
   "metadata": {},
   "outputs": [],
   "source": [
    "# Define a function to create word vectors for a given text using GloVe embeddings\n",
    "def get_word_vectors(text):\n",
    "    words = text.split()\n",
    "    word_vectors_list = [glove_model[word] if word in glove_model else np.zeros(glove_model.vector_size) for word in words]\n",
    "    return np.mean(word_vectors_list, axis=0)"
   ]
  },
  {
   "cell_type": "code",
   "execution_count": 6,
   "id": "af7ec710",
   "metadata": {},
   "outputs": [],
   "source": [
    "# Transform the text data to word vectors\n",
    "X_train_transformed = [get_word_vectors(text) for text in X_train]\n",
    "X_test_transformed = [get_word_vectors(text) for text in X_test]"
   ]
  },
  {
   "cell_type": "code",
   "execution_count": 7,
   "id": "1f888450",
   "metadata": {},
   "outputs": [
    {
     "data": {
      "text/plain": [
       "LinearSVC()"
      ]
     },
     "execution_count": 7,
     "metadata": {},
     "output_type": "execute_result"
    }
   ],
   "source": [
    "# Train the model\n",
    "classifier = LinearSVC()\n",
    "classifier.fit(X_train_transformed, y_train)"
   ]
  },
  {
   "cell_type": "code",
   "execution_count": 8,
   "id": "95a67908",
   "metadata": {},
   "outputs": [
    {
     "name": "stdout",
     "output_type": "stream",
     "text": [
      "              precision    recall  f1-score   support\n",
      "\n",
      "           0       0.97      0.96      0.97       155\n",
      "           1       0.98      0.97      0.97       210\n",
      "           2       1.00      0.99      1.00       197\n",
      "           3       0.99      0.99      0.99       159\n",
      "           4       0.94      0.98      0.96       169\n",
      "\n",
      "    accuracy                           0.98       890\n",
      "   macro avg       0.98      0.98      0.98       890\n",
      "weighted avg       0.98      0.98      0.98       890\n",
      "\n"
     ]
    }
   ],
   "source": [
    "from sklearn.metrics import classification_report\n",
    "\n",
    "# Predict the labels for the test data using the trained model\n",
    "y_pred = classifier.predict(X_test_transformed)\n",
    "\n",
    "# Generate the classification report\n",
    "print(classification_report(y_test, y_pred))"
   ]
  },
  {
   "cell_type": "code",
   "execution_count": 9,
   "id": "cefb26c5",
   "metadata": {},
   "outputs": [
    {
     "name": "stdout",
     "output_type": "stream",
     "text": [
      "Headline: ['world bank']\n",
      "prediction: business\n"
     ]
    }
   ],
   "source": [
    "review1 = ['world bank']\n",
    "\n",
    "# Transform the review text to word vectors\n",
    "review1_transformed = get_word_vectors(review1[0])\n",
    "\n",
    "# Reshape the transformed review to match the expected input shape\n",
    "review1_transformed = review1_transformed.reshape(1, -1)\n",
    "\n",
    "# Predict the sentiment label for the review\n",
    "prediction = classifier.predict(review1_transformed)[0]\n",
    "\n",
    "# Map the predicted label to 'NEGATIVE' or 'POSITIVE'\n",
    "if prediction==0:\n",
    "    k='tech'\n",
    "elif prediction==1:\n",
    "    k='business'\n",
    "elif prediction==2:\n",
    "    k='sport'\n",
    "elif prediction==3:\n",
    "    k='entertainment'\n",
    "elif prediction==4:\n",
    "    k='politics'\n",
    "\n",
    "# Print the headline and the predicted sentiment\n",
    "print('Headline:', review1)\n",
    "print('prediction:', k)\n"
   ]
  },
  {
   "cell_type": "code",
   "execution_count": null,
   "id": "6438f7ea",
   "metadata": {},
   "outputs": [],
   "source": []
  }
 ],
 "metadata": {
  "kernelspec": {
   "display_name": "Python 3 (ipykernel)",
   "language": "python",
   "name": "python3"
  },
  "language_info": {
   "codemirror_mode": {
    "name": "ipython",
    "version": 3
   },
   "file_extension": ".py",
   "mimetype": "text/x-python",
   "name": "python",
   "nbconvert_exporter": "python",
   "pygments_lexer": "ipython3",
   "version": "3.9.12"
  }
 },
 "nbformat": 4,
 "nbformat_minor": 5
}
